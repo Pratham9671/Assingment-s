{
 "cells": [
  {
   "cell_type": "markdown",
   "metadata": {},
   "source": [
    "## Answer 1"
   ]
  },
  {
   "cell_type": "code",
   "execution_count": 1,
   "metadata": {},
   "outputs": [
    {
     "name": "stdout",
     "output_type": "stream",
     "text": [
      "Enter number of elements you want to Enter : 7\n",
      "Enter Element: 4'\n",
      "Enter Element: 4\n",
      "Enter Element: 5\n",
      "Enter Element: 6\n",
      "Enter Element: 8\n",
      "Enter Element: 4\n",
      "Enter Element: 5\n",
      "Entered List:  [\"4'\", '4', '5', '6', '8', '4', '5']\n",
      "Duplicates Removed:  {'5', '4', '8', '6', \"4'\"}\n"
     ]
    }
   ],
   "source": [
    "n = int(input(\"Enter number of elements you want to Enter : \"))\n",
    "l = []\n",
    "for i in range(n):\n",
    "    x = input(\"Enter Element: \")\n",
    "    l.append(x)\n",
    "print(\"Entered List: \",l)\n",
    "l = set(l)\n",
    "l.sort()\n",
    "print(\"Duplicates Removed: \",l)"
   ]
  },
  {
   "cell_type": "markdown",
   "metadata": {},
   "source": [
    "## Answer 2"
   ]
  },
  {
   "cell_type": "code",
   "execution_count": 2,
   "metadata": {},
   "outputs": [
    {
     "name": "stdout",
     "output_type": "stream",
     "text": [
      "Enter number of elements you want to Enter : 5\n",
      "Enter Element: 1\n",
      "Enter Element: 2\n",
      "Enter Element: 3\n",
      "Enter Element: 4\n",
      "Enter Element: 5\n",
      "The Length of Tuple is:  5\n",
      "sum of all the elements of a tuple is :  15\n",
      "Max Element:  5\n",
      "Min Element:  1\n"
     ]
    }
   ],
   "source": [
    "n = int(input(\"Enter number of elements you want to Enter : \"))\n",
    "l = []\n",
    "for i in range(n):\n",
    "    x = int(input(\"Enter Element: \"))\n",
    "    l.append(x)\n",
    "t = tuple(l)\n",
    "print(\"The Length of Tuple is: \",len(t))\n",
    "print(\"sum of all the elements of a tuple is : \", sum(t))\n",
    "print(\"Max Element: \",max(t))\n",
    "print(\"Min Element: \",min(t))"
   ]
  },
  {
   "cell_type": "markdown",
   "metadata": {},
   "source": [
    "## Answer 3"
   ]
  },
  {
   "cell_type": "code",
   "execution_count": 3,
   "metadata": {},
   "outputs": [
    {
     "name": "stdout",
     "output_type": "stream",
     "text": [
      "Enter The Number: 13\n",
      "Enter The bit you wnat to change: 1\n",
      "15\n"
     ]
    }
   ],
   "source": [
    "n = int(input(\"Enter The Number: \"))\n",
    "i = int(input(\"Enter The bit you wnat to change: \"))\n",
    "print((1 << i) | n)"
   ]
  },
  {
   "cell_type": "markdown",
   "metadata": {},
   "source": [
    "## Answer 4"
   ]
  },
  {
   "cell_type": "code",
   "execution_count": 4,
   "metadata": {},
   "outputs": [
    {
     "name": "stdout",
     "output_type": "stream",
     "text": [
      "Enter The Number: 15\n",
      "1\n"
     ]
    }
   ],
   "source": [
    "n = int(input(\"Enter The Number: \"))\n",
    "print(n & 1)"
   ]
  },
  {
   "cell_type": "code",
   "execution_count": null,
   "metadata": {},
   "outputs": [],
   "source": [
    "n = int(input(\"Enter number of elements you want to Enter for List A : \"))\n",
    "A = []\n",
    "for i in range(n):\n",
    "    x = input(\"Enter Element: \")\n",
    "    A.append(x)\n",
    "print(\"List A: \",A)\n",
    "\n",
    "n = int(input(\"Enter number of elements you want to Enter for List B : \"))\n",
    "B = []\n",
    "for i in range(n):\n",
    "    x = input(\"Enter Element: \")\n",
    "    B.append(x)\n",
    "print(\"List B: \",B)\n",
    "\n",
    "C = A+B\n",
    "print(\"Merged List: \",C)"
   ]
  },
  {
   "cell_type": "code",
   "execution_count": null,
   "metadata": {},
   "outputs": [],
   "source": [
    "s_dict = {}\n",
    "for i in range(5):\n",
    "    s_name = input(\"Enter Student Name: \")\n",
    "    s_dict[s_name] = int(input(\"Enter Marks: \"))\n",
    "d=sorted(s_dict.items(), key=lambda x: x[1])\n",
    "print(d)"
   ]
  }
 ],
 "metadata": {
  "kernelspec": {
   "display_name": "Python 3",
   "language": "python",
   "name": "python3"
  },
  "language_info": {
   "codemirror_mode": {
    "name": "ipython",
    "version": 3
   },
   "file_extension": ".py",
   "mimetype": "text/x-python",
   "name": "python",
   "nbconvert_exporter": "python",
   "pygments_lexer": "ipython3",
   "version": "3.7.7"
  }
 },
 "nbformat": 4,
 "nbformat_minor": 4
}
